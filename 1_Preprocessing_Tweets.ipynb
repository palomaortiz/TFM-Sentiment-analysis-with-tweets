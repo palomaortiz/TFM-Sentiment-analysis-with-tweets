{
 "cells": [
  {
   "cell_type": "markdown",
   "metadata": {},
   "source": [
    "# Preprocessing Data Tweets"
   ]
  },
  {
   "cell_type": "markdown",
   "metadata": {},
   "source": [
    "The purpose of this notebook is to normalize and transform dataset columns to improve the quality of the data."
   ]
  },
  {
   "cell_type": "markdown",
   "metadata": {},
   "source": [
    "We start by importing the libraries and configuring some settings:"
   ]
  },
  {
   "cell_type": "code",
   "execution_count": null,
   "metadata": {},
   "outputs": [],
   "source": [
    "import pandas as pd\n",
    "import matplotlib.pyplot as plt\n",
    "pd.set_option('max_colwidth', 150)"
   ]
  },
  {
   "cell_type": "markdown",
   "metadata": {},
   "source": [
    "Firstly, we load data from the input csv file into a dataframe:"
   ]
  },
  {
   "cell_type": "code",
   "execution_count": null,
   "metadata": {},
   "outputs": [],
   "source": [
    "df = pd.read_csv(\"2_PreprocessingTweets.csv\", sep=\"|\", lineterminator='\\n', low_memory=False)\n",
    "df.head()"
   ]
  },
  {
   "cell_type": "code",
   "execution_count": null,
   "metadata": {},
   "outputs": [],
   "source": [
    "df.shape"
   ]
  },
  {
   "cell_type": "code",
   "execution_count": null,
   "metadata": {},
   "outputs": [],
   "source": [
    "df.columns"
   ]
  },
  {
   "cell_type": "markdown",
   "metadata": {},
   "source": [
    "The initial data set has 33.130 records and 21 columns."
   ]
  },
  {
   "cell_type": "markdown",
   "metadata": {},
   "source": [
    "We observe that there are unnecessary columns, so we will remove them from the dataframe:"
   ]
  },
  {
   "cell_type": "code",
   "execution_count": null,
   "metadata": {},
   "outputs": [],
   "source": [
    "df.drop(\"Unnamed: 0\\r\", axis=1, inplace=True)"
   ]
  },
  {
   "cell_type": "markdown",
   "metadata": {},
   "source": [
    "Now, we transform date columns into a date format:"
   ]
  },
  {
   "cell_type": "code",
   "execution_count": null,
   "metadata": {},
   "outputs": [],
   "source": [
    "df['created_date'] = pd.to_datetime(df['created_date'])\n",
    "df['user_created_account'] = pd.to_datetime(df['user_created_account'])"
   ]
  },
  {
   "cell_type": "markdown",
   "metadata": {},
   "source": [
    "Also, the rest of columns with string format needs some transformations in order to:\n",
    "\n",
    "- Remove extra spaces \n",
    "- Remove Return (\\r) \n",
    "- Remove New line (\\n) \n",
    "- Rename column names"
   ]
  },
  {
   "cell_type": "code",
   "execution_count": null,
   "metadata": {},
   "outputs": [],
   "source": [
    "df['tweets'] = df['tweets'].map(lambda x: x.replace(\"\\n\",\"\").replace(\"\\r\",\" \").replace(\"  \",\" \").strip())\n",
    "df['source'] = df['source'].map(lambda x: x.replace(\"\\n\",\"\").replace(\"\\r\",\" \").replace(\"  \",\" \").strip())\n",
    "df['language'] = df['language'].map(lambda x: x.replace(\"\\n\",\"\").replace(\"\\r\",\" \").replace(\"  \",\" \").strip())\n",
    "df['place'] = df['place'].map(lambda x: str(x).replace(\"\\n\",\"\").replace(\"\\r\",\" \").replace(\"  \",\" \").strip())\n",
    "df['user_description'] = df['user_description'].map(lambda x: str(x).replace(\"\\n\",\"\").replace(\"\\r\",\" \").replace(\"  \",\" \").strip())\n",
    "df['user_name'] = df['user_name'].map(lambda x: str(x).replace(\"\\n\",\"\").replace(\"\\r\",\" \").replace(\"  \",\" \").strip())\n",
    "df['user_location'] = df['user_location'].map(lambda x: str(x).replace(\"\\n\",\"\").replace(\"\\r\",\" \").replace(\"  \",\" \").strip())\n",
    "df['user_lang\\r'] = df['user_lang\\r'].map(lambda x: x.replace(\"\\n\",\"\").replace(\"\\r\",\" \").replace(\"  \",\" \").strip())\n",
    "df['user_lang'] = df['user_lang\\r']\n",
    "df.drop(\"user_lang\\r\", axis=1, inplace=True)"
   ]
  },
  {
   "cell_type": "markdown",
   "metadata": {},
   "source": [
    "Attending to \"Tweets\" column, it has been detected some unfinished tweets because of the exceeded lenght (140 characters), so we will remove them from the dataframe:"
   ]
  },
  {
   "cell_type": "code",
   "execution_count": null,
   "metadata": {},
   "outputs": [],
   "source": [
    "df = df[df[\"tweet_long\"] < 139]\n",
    "df.shape"
   ]
  },
  {
   "cell_type": "code",
   "execution_count": null,
   "metadata": {},
   "outputs": [],
   "source": [
    "df.head()"
   ]
  },
  {
   "cell_type": "markdown",
   "metadata": {},
   "source": [
    "Let's take a look if there are repeated tweets. In that case, we will remove all of them:"
   ]
  },
  {
   "cell_type": "code",
   "execution_count": null,
   "metadata": {},
   "outputs": [],
   "source": [
    "df[\"tweets\"].unique().shape"
   ]
  },
  {
   "cell_type": "code",
   "execution_count": null,
   "metadata": {},
   "outputs": [],
   "source": [
    "df_clean = pd.DataFrame(data=df[\"tweets\"].unique(), columns=[\"tweets\"])\n",
    "df_clean.shape"
   ]
  },
  {
   "cell_type": "markdown",
   "metadata": {},
   "source": [
    "We merge unique values with rest of the columns to get the final dataframe:"
   ]
  },
  {
   "cell_type": "code",
   "execution_count": null,
   "metadata": {},
   "outputs": [],
   "source": [
    "df_merge = pd.merge(df_clean, df.sort_values(\"created_date\", ascending=True), how='left')\n",
    "df_final = df_merge.drop_duplicates('tweets', keep='first')"
   ]
  },
  {
   "cell_type": "code",
   "execution_count": null,
   "metadata": {},
   "outputs": [],
   "source": [
    "df_final.head()"
   ]
  },
  {
   "cell_type": "code",
   "execution_count": null,
   "metadata": {},
   "outputs": [],
   "source": [
    "df_final.shape"
   ]
  },
  {
   "cell_type": "markdown",
   "metadata": {},
   "source": [
    "Finally, we get the processed dataframe with a total of 5.301 registers and 20 columns. It is saved in a .csv file."
   ]
  },
  {
   "cell_type": "code",
   "execution_count": null,
   "metadata": {},
   "outputs": [],
   "source": [
    "df_final.to_csv('preprocessed_tweets.csv', index=False, header=True,sep='|',decimal=',', encoding='utf-8')"
   ]
  }
 ],
 "metadata": {
  "kernelspec": {
   "display_name": "Python 3",
   "language": "python",
   "name": "python3"
  },
  "language_info": {
   "codemirror_mode": {
    "name": "ipython",
    "version": 3
   },
   "file_extension": ".py",
   "mimetype": "text/x-python",
   "name": "python",
   "nbconvert_exporter": "python",
   "pygments_lexer": "ipython3",
   "version": "3.6.7"
  }
 },
 "nbformat": 4,
 "nbformat_minor": 2
}
